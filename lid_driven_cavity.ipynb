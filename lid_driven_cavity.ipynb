{
 "cells": [
  {
   "cell_type": "markdown",
   "metadata": {},
   "source": [
    "# Lid Driven Cavity Background\n",
    "### Using NVIDIA Syms we will solve the LDC problem using PINNs\n",
    "#### Steps are like:\n",
    "1. Generate a 2D geometry using Modulus SYM geometry Module\n",
    "2. Setup the boundary conditions\n",
    "3. Select the flow equations to be solved\n",
    "4. Interpret diffent losses and tune the network after followed by a basic preprocessing"
   ]
  },
  {
   "cell_type": "markdown",
   "metadata": {},
   "source": [
    "The problem involves a 0.1 m square cavity with stationary walls on three sides and a top wall moving right at 1 m/s. The Reynolds number, indicating flow type, is calculated based on flow speed and cavity height. For this setup, the Reynolds number is 10, indicating laminar flow.\n"
   ]
  },
  {
   "cell_type": "markdown",
   "metadata": {},
   "source": [
    "The governing equations for fluid dynamics in this context are the **Navier-Stokes equations**, which describe the motion of viscous fluid substances. In two dimensions, the Navier-Stokes equations can be expressed as follows:\n",
    "\n",
    "### 1. **Continuity Equation**\n",
    "The continuity equation ensures mass conservation:\n",
    "$$\n",
    "\\frac{\\partial \\rho}{\\partial t} + \\nabla \\cdot (\\rho \\mathbf{u}) = 0\n",
    "$$\n",
    "Where:\n",
    "- $\\rho$ is the fluid density.\n",
    "- $\\mathbf{u} = (u, v)$ is the velocity vector, with $u$ and $v$ being the velocity components in the $x$ and $y$ directions, respectively.\n",
    "\n",
    "\n",
    "### 2. **Momentum Equations**\n",
    "The momentum equations describe the change in momentum due to various forces:\n",
    "$$\n",
    "\\frac{\\partial (\\rho \\mathbf{u})}{\\partial t} + \\nabla \\cdot (\\rho \\mathbf{u} \\otimes \\mathbf{u}) = -\\nabla p + \\mu \\nabla^2 \\mathbf{u} + \\mathbf{f}\n",
    "$$\n",
    "Where:\n",
    "- $p$ is the pressure.\n",
    "- $\\mu$ is the dynamic viscosity of the fluid.\n",
    "- $\\nabla^2$ is the Laplacian operator, representing viscous diffusion.\n",
    "- $\\mathbf{f}$ represents body forces (e.g., gravity).\n",
    "\n",
    "### Simplified Form\n",
    "In many cases, particularly for incompressible flows (where the density is constant), the equations simplify to:\n",
    "1. **Continuity** (for incompressible flow):\n",
    "$ \\nabla \\cdot \\mathbf{u} = 0 $\n",
    "\n",
    "2. **Momentum**:\n",
    "$$\n",
    "\\frac{\\partial \\mathbf{u}}{\\partial t} + (\\mathbf{u} \\cdot \\nabla) \\mathbf{u} = -\\frac{1}{\\rho} \\nabla p + \\nu \\nabla^2 \\mathbf{u}\n",
    "$$\n",
    "Where:\n",
    "- $ \\nu = \\frac{\\mu}{\\rho} $ is the kinematic viscosity.\n",
    "\n",
    "### Summary\n",
    "The Navier-Stokes equations encapsulate the fundamental principles of fluid motion, including conservation of mass and momentum. In the script you provided, these equations are represented symbolically and solved using the Modulus framework, with boundary and interior constraints applied to model the physical behavior of the fluid."
   ]
  },
  {
   "cell_type": "markdown",
   "metadata": {},
   "source": []
  }
 ],
 "metadata": {
  "language_info": {
   "name": "python"
  }
 },
 "nbformat": 4,
 "nbformat_minor": 2
}
